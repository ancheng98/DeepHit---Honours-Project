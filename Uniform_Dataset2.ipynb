#%%
import numpy as np
import pandas as pd
import sklearn
import matplotlib as plt
from matplotlib import pyplot
import xlsxwriter as x
import math 
import collections
import sys
import random
import copy

#%%
N = 500
X = np.random.uniform(-2,2, N)
T1 = np.power(X, 3) + np.random.normal(15,1,N)
T2 = np.power(X, 2) + np.random.normal(5,1,N)
#Did the authors get it backwards?
prob = [0.8 if abs(x)<1 else 0.2 for x in X ]
print('X: {}'.format(X[:10]))
print('T1: {}'.format(T1[:10]))
#%%
true_label = list()
label = list()
for i in range(0,N):
    curr_label = np.random.choice(a=[1, 2], p=[prob[i], 1-prob[i]])
    true_label.append(curr_label)
    label.append(curr_label)
print(true_label)

#%%
##Choose the corresponding true time according to the true labels
true_time = [T1[i] if true_label[i] == 1 else T2[i] for i in range(0,N)]
##we create a shallow copy of true_time 
time = true_time[:]
#print(true_time)
#print("T1: {}".format(T1))
#%%
##Censoring 20% of data via C_{i} <- U(0,T_{i})
censor_Index = random.sample(range(0,N-1), int(N/5))
for index in censor_Index:
    label[index] = 0
    time[index] = np.random.uniform(0, true_time[index], size=1)
    
#%%
export_data = {'feature1': X[:], 'true_time': true_time, 'true_label': true_label, 'time':time, 'label':label}
df_export_data = pd.DataFrame(data=export_data)
df_export_data.head()
writer = pd.ExcelWriter('Uniform_Dataset4.xlsx', engine='xlsxwriter')
#convert the dataframe to an XlsxWriter object
df_export_data.to_excel(writer, sheet_name='Sheet1')
writer.save()
#%%
'''print(len(X))
print(len(true_label))
print(len(true_time))
print(len(time))
print(len(label))
'''
#%%
plt.pyplot.scatter(X, time, c='red', alpha=0.5)

#%%
print(min(true_time))
#%%

#%%

